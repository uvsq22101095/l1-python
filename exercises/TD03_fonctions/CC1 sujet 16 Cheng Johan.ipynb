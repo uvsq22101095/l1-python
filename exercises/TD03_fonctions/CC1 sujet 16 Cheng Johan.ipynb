{
 "cells": [
  {
   "cell_type": "markdown",
   "source": [
    "sujet 16\r\n",
    "Cheng Johan"
   ],
   "metadata": {}
  },
  {
   "cell_type": "markdown",
   "source": [
    "exercice n°1"
   ],
   "metadata": {}
  },
  {
   "cell_type": "code",
   "execution_count": 1,
   "source": [
    "var1= 4.5\r\n",
    "var2=\"2.0\"\r\n",
    "print(var1+var2)"
   ],
   "outputs": [
    {
     "output_type": "error",
     "ename": "TypeError",
     "evalue": "unsupported operand type(s) for +: 'float' and 'str'",
     "traceback": [
      "\u001b[1;31m---------------------------------------------------------------------------\u001b[0m",
      "\u001b[1;31mTypeError\u001b[0m                                 Traceback (most recent call last)",
      "\u001b[1;32m~\\AppData\\Local\\Temp/ipykernel_2624/4022641049.py\u001b[0m in \u001b[0;36m<module>\u001b[1;34m\u001b[0m\n\u001b[0;32m      1\u001b[0m \u001b[0mvar1\u001b[0m\u001b[1;33m=\u001b[0m \u001b[1;36m4.5\u001b[0m\u001b[1;33m\u001b[0m\u001b[1;33m\u001b[0m\u001b[0m\n\u001b[0;32m      2\u001b[0m \u001b[0mvar2\u001b[0m\u001b[1;33m=\u001b[0m\u001b[1;34m\"2.0\"\u001b[0m\u001b[1;33m\u001b[0m\u001b[1;33m\u001b[0m\u001b[0m\n\u001b[1;32m----> 3\u001b[1;33m \u001b[0mprint\u001b[0m\u001b[1;33m(\u001b[0m\u001b[0mvar1\u001b[0m\u001b[1;33m+\u001b[0m\u001b[0mvar2\u001b[0m\u001b[1;33m)\u001b[0m\u001b[1;33m\u001b[0m\u001b[1;33m\u001b[0m\u001b[0m\n\u001b[0m",
      "\u001b[1;31mTypeError\u001b[0m: unsupported operand type(s) for +: 'float' and 'str'"
     ]
    }
   ],
   "metadata": {}
  },
  {
   "cell_type": "markdown",
   "source": [
    "coherent on ne peut pas additioner des \"str\" avec des \"float\""
   ],
   "metadata": {}
  },
  {
   "cell_type": "markdown",
   "source": [
    "exercice n°2"
   ],
   "metadata": {}
  },
  {
   "cell_type": "code",
   "execution_count": 10,
   "source": [
    "animal = str(input(\"un des Animaux proposé\"))\r\n",
    "print(animal)\r\n",
    "if animal == \"Aigle\" or animal == \"Pygargue\" or animal == \"Vautour\" :\r\n",
    "    print(\"oiseaux\")\r\n",
    "elif animal == \"Baleine\" or animal == \"Cachalot\" or animal == \"Orque\" :\r\n",
    "    print(\"cétacé\")\r\n",
    "else :\r\n",
    "    print(\"animal inconue\")\r\n"
   ],
   "outputs": [
    {
     "output_type": "stream",
     "name": "stdout",
     "text": [
      "Lion\n",
      "animal inconue\n"
     ]
    }
   ],
   "metadata": {}
  },
  {
   "cell_type": "markdown",
   "source": [
    "exercice n°3"
   ],
   "metadata": {}
  },
  {
   "cell_type": "code",
   "execution_count": 13,
   "source": [
    "import random\r\n",
    "n = int(input(\"un nombre\"))\r\n",
    "n1 = random.randint(100, 999)\r\n",
    "n2 = random.randint(100, 999)\r\n",
    "n3 = random.randint(100, 999)\r\n",
    "v = ( n + n1 + n2 + n3 ) / 4\r\n",
    "print( \"la moyenne de \", n, \",\", n1, \",\", n2, \",\", n3, \"est :\")\r\n",
    "print(\"(\", n, \"+\", n1, \"+\", n2, \"+\", n3, \") / 4 \\n\", \"=\")\r\n",
    "print(v)\r\n",
    "if n<n1 and n<n2 and n<n3 :\r\n",
    "    print(\"le nombre le plus petit est\", n)\r\n",
    "elif n1<n and n1<n2 and n1<n3:\r\n",
    "    print(\"le nombre le plus petit est\", n1)\r\n",
    "elif n2<n and n2<n1 and n2<n3 :\r\n",
    "    print(\"le nombre le plus petit est\", n2)\r\n",
    "elif n3<n and n3<n1 and n3<n2 :\r\n",
    "    print(\"le nombre le plus petit est\", n3)"
   ],
   "outputs": [
    {
     "output_type": "stream",
     "name": "stdout",
     "text": [
      "la moyenne de  100 , 940 , 492 , 582 est :\n",
      "( 100 + 940 + 492 + 582 ) / 4 \n",
      " =\n",
      "528.5\n",
      "le nombre le plus petit est 100\n"
     ]
    }
   ],
   "metadata": {}
  }
 ],
 "metadata": {
  "orig_nbformat": 4,
  "language_info": {
   "name": "python",
   "version": "3.9.7",
   "mimetype": "text/x-python",
   "codemirror_mode": {
    "name": "ipython",
    "version": 3
   },
   "pygments_lexer": "ipython3",
   "nbconvert_exporter": "python",
   "file_extension": ".py"
  },
  "kernelspec": {
   "name": "python3",
   "display_name": "Python 3.9.7 64-bit ('l1-python': conda)"
  },
  "interpreter": {
   "hash": "1dd6737639af4bf8956431f186ef72665a0861306c1bb5f3c1fab86cc2ebb376"
  }
 },
 "nbformat": 4,
 "nbformat_minor": 2
}