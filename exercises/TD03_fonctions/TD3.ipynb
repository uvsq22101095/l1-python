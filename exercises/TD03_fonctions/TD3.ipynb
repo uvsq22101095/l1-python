{
 "cells": [
  {
   "cell_type": "markdown",
   "source": [
    "Créer la fonction qui prend comme argument le temps et renvoie le nombre de seconde total correspondant à ce temps."
   ],
   "metadata": {}
  },
  {
   "cell_type": "code",
   "execution_count": 61,
   "source": [
    "def tempsEnSeconde(temps):\r\n",
    "    tempsenseconde = (temps[0]*24*60*60) + (temps[1]*60*60) + (temps[2]*60) + temps[3]\r\n",
    "    return(tempsenseconde)\r\n",
    "    \"\"\" Renvoie la valeur en seconde de temps donné comme jour, heure, minute, seconde.\"\"\"\r\n",
    "temps = (3,23,1,34)\r\n",
    "print(type(temps))\r\n",
    "print(tempsEnSeconde(temps)) \r\n",
    " "
   ],
   "outputs": [
    {
     "output_type": "stream",
     "name": "stdout",
     "text": [
      "<class 'tuple'>\n",
      "342094\n"
     ]
    }
   ],
   "metadata": {}
  },
  {
   "cell_type": "markdown",
   "source": [
    "Créer la fonction qui prend un nombre de secondes et renvoie le temps correspondant."
   ],
   "metadata": {}
  },
  {
   "cell_type": "code",
   "execution_count": 35,
   "source": [
    "8%5"
   ],
   "outputs": [
    {
     "output_type": "execute_result",
     "data": {
      "text/plain": [
       "3"
      ]
     },
     "metadata": {},
     "execution_count": 35
    }
   ],
   "metadata": {}
  },
  {
   "cell_type": "code",
   "execution_count": 3,
   "source": [
    "temps = [0,0,0,0]\r\n",
    "def secondeEnTemps(seconde):\r\n",
    "    temps[3] = seconde % 60\r\n",
    "    temps[2] = (seconde - temps[3]) % 3600\r\n",
    "    temps[1] = (seconde - temps[3] - temps[2]) % (3600 * 24)\r\n",
    "    temps[0] = (seconde - temps[3] - temps[2] - temps[1]) % (3600*24)\r\n",
    "    secondeentemps = (temps[0], temps[1], temps[2], temps[3])\r\n",
    "    \"\"\"Renvoie le temps (jour, heure, minute, seconde) qui correspond au nombre de seconde passé en argument\"\"\"\r\n",
    "    return(secondeentemps) \r\n",
    "\r\n",
    "temps = secondeEnTemps(100000)\r\n",
    "print(temps)"
   ],
   "outputs": [
    {
     "output_type": "stream",
     "name": "stdout",
     "text": [
      "(0, 10800, 2760, 40)\n"
     ]
    }
   ],
   "metadata": {}
  },
  {
   "cell_type": "markdown",
   "source": [
    "fonction auxiliaire"
   ],
   "metadata": {}
  },
  {
   "cell_type": "code",
   "execution_count": 71,
   "source": [
    "#fonction auxiliaire ici\r\n",
    "temps = [0,0,0,0]\r\n",
    "def afficheTemps(temps):\r\n",
    "    if temps[0]==1 :\r\n",
    "        print(\"\", temps[0], \"jour\", end=\"\")\r\n",
    "    elif temps[0]==0 :\r\n",
    "        print(end=\"\")\r\n",
    "    else :\r\n",
    "        print(\"\", temps[0], \"jours\", end=\"\")\r\n",
    "    if temps[1]==1 :\r\n",
    "        print(\"\", temps[1], \"heure\", end=\"\")\r\n",
    "    elif temps[1]==0 :\r\n",
    "        print(end=\"\")\r\n",
    "    else :\r\n",
    "        print(\"\", temps[1], \"heures\", end=\"\")\r\n",
    "    if temps[2]==1 :\r\n",
    "        print(\"\", temps[2], \"minute\", end=\"\")\r\n",
    "    elif temps[2]==0 :\r\n",
    "        print(end=\"\")\r\n",
    "    else :\r\n",
    "        print(\"\", temps[2], \"minutes\", end=\"\")\r\n",
    "    if temps[3]==1 :\r\n",
    "        print(\"\", temps[3], \"seconde\", end=\"\")\r\n",
    "    elif temps[3]==0 :\r\n",
    "        print(end=\"\")\r\n",
    "    else :\r\n",
    "        print(\"\", temps[3], \"secondes\")\r\n",
    "    pass\r\n",
    "    \r\n",
    "afficheTemps((1,0,14,23))    "
   ],
   "outputs": [
    {
     "output_type": "stream",
     "name": "stdout",
     "text": [
      " 1 jour 14 minutes 23 secondes\n"
     ]
    }
   ],
   "metadata": {}
  },
  {
   "cell_type": "markdown",
   "source": [
    "Ecrire une fonction qui demande à l'utilisateur de rentrer un nombre de jours, d'heures, de minutes et\r\n",
    "de secondes et qui renvoie un temps. Attention, si l'entrée utilisateur n'est pas correcte, par exemple 80 minutes,\r\n",
    "afficher un message d'erreur et s'arrêter.\r\n",
    "\r\n",
    "(Optionnel) Au lieu d'arêter le programme, demander de rentrer une nouvelle valeur, tant que \r\n",
    "ce n'est pas une valeur correcte."
   ],
   "metadata": {}
  },
  {
   "cell_type": "code",
   "execution_count": 79,
   "source": [
    "#fonction auxiliaire ici\r\n",
    "temps = [0,0,0,0]\r\n",
    "def afficheTemps(temps):\r\n",
    "    if temps[0]==1 :\r\n",
    "        print(\"\", temps[0], \"jour\", end=\"\")\r\n",
    "    elif temps[0]==0 :\r\n",
    "        print(end=\"\")\r\n",
    "    else :\r\n",
    "        print(\"\", temps[0], \"jours\", end=\"\")\r\n",
    "    if temps[1]==1 :\r\n",
    "        print(\"\", temps[1], \"heure\", end=\"\")\r\n",
    "    elif temps[1]==0 :\r\n",
    "        print(end=\"\")\r\n",
    "    else :\r\n",
    "        print(\"\", temps[1], \"heures\", end=\"\")\r\n",
    "    if temps[2]==1 :\r\n",
    "        print(\"\", temps[2], \"minute\", end=\"\")\r\n",
    "    elif temps[2]==0 :\r\n",
    "        print(end=\"\")\r\n",
    "    else :\r\n",
    "        print(\"\", temps[2], \"minutes\", end=\"\")\r\n",
    "    if temps[3]==1 :\r\n",
    "        print(\"\", temps[3], \"seconde\", end=\"\")\r\n",
    "    elif temps[3]==0 :\r\n",
    "        print(end=\"\")\r\n",
    "    else :\r\n",
    "        print(\"\", temps[3], \"secondes\")\r\n",
    "    pass\r\n",
    "     \r\n",
    "\r\n",
    "def demandeTemps(temps):\r\n",
    "    for i in range (1):\r\n",
    "        if temps[1]>24 :\r\n",
    "             print(\"la valeur en heure choisi n'est pas correcte\")\r\n",
    "             break\r\n",
    "        elif temps[2]>60 :\r\n",
    "             print(\"la valeur choisi en minute n'est pas correcte\")\r\n",
    "             break\r\n",
    "        elif temps[3]>60 :\r\n",
    "             print(\"la valeur choisi en seconde n'est pas correcte\")\r\n",
    "             break\r\n",
    "    return(temps)\r\n",
    "\r\n",
    "temps = [int(input(\"un jour\")), int(input(\"une heure\")), int(input(\"une minute\")), int(input(\"une seconde\"))]\r\n",
    "afficheTemps(demandeTemps(temps))"
   ],
   "outputs": [
    {
     "output_type": "stream",
     "name": "stdout",
     "text": [
      " 22 jours 22 heures 22 minutes 22 secondes\n"
     ]
    }
   ],
   "metadata": {}
  },
  {
   "cell_type": "code",
   "execution_count": 12,
   "source": [
    "temps1 = [0, 0, 0, 0]\r\n",
    "temps2 = [0, 0, 0, 0]\r\n",
    "temps = [0, 0, 0, 0]\r\n",
    "\r\n",
    "def tempsEnSeconde(temps):\r\n",
    "    tempsenseconde = (temps[0]*24*60*60) + (temps[1]*60*60) + (temps[2]*60) + temps[3]\r\n",
    "    return(tempsenseconde)\r\n",
    "    \"\"\" Renvoie la valeur en seconde de temps donné comme jour, heure, minute, seconde.\"\"\"\r\n",
    "\r\n",
    "def secondeEnTemps(seconde):\r\n",
    "    temps[3] = seconde % 60\r\n",
    "    temps[2] = (seconde - temps[3]) % 3600\r\n",
    "    temps[1] = (seconde - temps[3] - temps[2]) % (3600 * 24)\r\n",
    "    temps[0] = seconde - temps[3] - temps[2] - temps[1]\r\n",
    "    secondeentemps = (temps[0], temps[1], temps[2], temps[3])\r\n",
    "    \"\"\"Renvoie le temps (jour, heure, minute, seconde) qui correspond au nombre de seconde passé en argument\"\"\"\r\n",
    "    return(secondeentemps) \r\n",
    "\r\n",
    "def sommeTemps(temps1,temps2):\r\n",
    "    Sommetemps = tempsEnSeconde(temps1)+tempsEnSeconde(temps2)\r\n",
    "    secondeentemps = secondeEnTemps(Sommetemps)\r\n",
    "    return(Sommetemps, secondeentemps)\r\n",
    "    \r\n",
    "sommeTemps((2,3,4,25),(5,22,57,1))"
   ],
   "outputs": [
    {
     "output_type": "execute_result",
     "data": {
      "text/plain": [
       "(698486, (691200, 7200, 60, 26))"
      ]
     },
     "metadata": {},
     "execution_count": 12
    }
   ],
   "metadata": {}
  },
  {
   "cell_type": "code",
   "execution_count": null,
   "source": [
    "def proportionTemps(temps,proportion):\r\n",
    "    pass\r\n",
    "afficheTemps(proportionTemps((2,0,36,0),0.2))\r\n",
    "#appeler la fonction en échangeant l'ordre des arguments"
   ],
   "outputs": [],
   "metadata": {}
  },
  {
   "cell_type": "markdown",
   "source": [
    "j'ai la flemme putain de merde!"
   ],
   "metadata": {}
  }
 ],
 "metadata": {
  "orig_nbformat": 4,
  "language_info": {
   "name": "python",
   "version": "3.9.7",
   "mimetype": "text/x-python",
   "codemirror_mode": {
    "name": "ipython",
    "version": 3
   },
   "pygments_lexer": "ipython3",
   "nbconvert_exporter": "python",
   "file_extension": ".py"
  },
  "kernelspec": {
   "name": "python3",
   "display_name": "Python 3.9.7 64-bit ('l1-python': conda)"
  },
  "interpreter": {
   "hash": "1dd6737639af4bf8956431f186ef72665a0861306c1bb5f3c1fab86cc2ebb376"
  }
 },
 "nbformat": 4,
 "nbformat_minor": 2
}